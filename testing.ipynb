{
  "nbformat": 4,
  "nbformat_minor": 0,
  "metadata": {
    "colab": {
      "provenance": [],
      "authorship_tag": "ABX9TyOPowt82y7x0pROFdS7aLiT",
      "include_colab_link": true
    },
    "kernelspec": {
      "name": "python3",
      "display_name": "Python 3"
    },
    "language_info": {
      "name": "python"
    }
  },
  "cells": [
    {
      "cell_type": "markdown",
      "metadata": {
        "id": "view-in-github",
        "colab_type": "text"
      },
      "source": [
        "<a href=\"https://colab.research.google.com/github/robertauny/Azure-A-I/blob/master/testing.ipynb\" target=\"_parent\"><img src=\"https://colab.research.google.com/assets/colab-badge.svg\" alt=\"Open In Colab\"/></a>"
      ]
    },
    {
      "cell_type": "code",
      "execution_count": 24,
      "metadata": {
        "colab": {
          "base_uri": "https://localhost:8080/",
          "height": 1000
        },
        "id": "K_B-Wp_XcgDQ",
        "outputId": "b8bf7852-66e7-4aa7-9466-bcc4f166e716"
      },
      "outputs": [
        {
          "output_type": "stream",
          "name": "stdout",
          "text": [
            "Already up to date.\n",
            "/content/Azure-A-I/Services\n",
            "data exists\n",
            "Archive:  glove.6B.zip\n",
            "caution: filename not matched:  -o\n",
            "total 841992\n",
            "drwxr-xr-x 3 root root      4096 Sep 13 22:03 .\n",
            "drwxr-xr-x 4 root root      4096 Sep 13 22:38 ..\n",
            "drwxr-xr-x 2 root root      4096 Sep 13 22:03 csv\n",
            "-rw-r--r-- 1 root root 862182613 Oct 25  2015 glove.6B.zip\n",
            "\u001b[33mWARNING: Skipping pyarrow as it is not installed.\u001b[0m\u001b[33m\n",
            "\u001b[0mINSTALL: tensorflow_model_optimization\n",
            "Requirement already satisfied: pkg in /usr/local/lib/python3.10/dist-packages (0.2)\n",
            "INSTALL: pdf2image\n",
            "Requirement already satisfied: pkg in /usr/local/lib/python3.10/dist-packages (0.2)\n",
            "INSTALL: pytesseract\n",
            "Requirement already satisfied: pkg in /usr/local/lib/python3.10/dist-packages (0.2)\n",
            "INSTALL: bertopic\n",
            "Requirement already satisfied: pkg in /usr/local/lib/python3.10/dist-packages (0.2)\n",
            "INSTALL: gremlinpython\n",
            "Requirement already satisfied: pkg in /usr/local/lib/python3.10/dist-packages (0.2)\n",
            "INSTALL: sodapy\n",
            "Requirement already satisfied: pkg in /usr/local/lib/python3.10/dist-packages (0.2)\n",
            "INSTALL: pandasql\n",
            "Requirement already satisfied: pkg in /usr/local/lib/python3.10/dist-packages (0.2)\n",
            "INSTALL: pyspark\n",
            "Requirement already satisfied: pkg in /usr/local/lib/python3.10/dist-packages (0.2)\n",
            "INSTALL: graphframes\n",
            "Requirement already satisfied: pkg in /usr/local/lib/python3.10/dist-packages (0.2)\n",
            "INSTALL: pyarrow\n",
            "Requirement already satisfied: pkg in /usr/local/lib/python3.10/dist-packages (0.2)\n",
            "INSTALL: pyarrow.parquet\n",
            "Requirement already satisfied: pkg in /usr/local/lib/python3.10/dist-packages (0.2)\n",
            "INSTALL: datasets\n",
            "Requirement already satisfied: pkg in /usr/local/lib/python3.10/dist-packages (0.2)\n"
          ]
        },
        {
          "output_type": "error",
          "ename": "ModuleNotFoundError",
          "evalue": "No module named 'pyarrow.parquet'",
          "traceback": [
            "\u001b[0;31m---------------------------------------------------------------------------\u001b[0m",
            "\u001b[0;31mModuleNotFoundError\u001b[0m                       Traceback (most recent call last)",
            "\u001b[0;32m<ipython-input-24-9e8978f73c2e>\u001b[0m in \u001b[0;36m<cell line: 47>\u001b[0;34m()\u001b[0m\n\u001b[1;32m     45\u001b[0m     \u001b[0mprint\u001b[0m\u001b[0;34m(\u001b[0m\u001b[0;34m\"INSTALL: \"\u001b[0m\u001b[0;34m+\u001b[0m\u001b[0mpkg\u001b[0m\u001b[0;34m)\u001b[0m\u001b[0;34m\u001b[0m\u001b[0;34m\u001b[0m\u001b[0m\n\u001b[1;32m     46\u001b[0m     \u001b[0mget_ipython\u001b[0m\u001b[0;34m(\u001b[0m\u001b[0;34m)\u001b[0m\u001b[0;34m.\u001b[0m\u001b[0msystem\u001b[0m\u001b[0;34m(\u001b[0m\u001b[0;34m'pip install pkg'\u001b[0m\u001b[0;34m)\u001b[0m\u001b[0;34m\u001b[0m\u001b[0;34m\u001b[0m\u001b[0m\n\u001b[0;32m---> 47\u001b[0;31m \u001b[0;32mimport\u001b[0m \u001b[0mmtl\u001b[0m\u001b[0;34m\u001b[0m\u001b[0;34m\u001b[0m\u001b[0m\n\u001b[0m\u001b[1;32m     48\u001b[0m \u001b[0mprint\u001b[0m\u001b[0;34m(\u001b[0m\u001b[0;34m\"Done\"\u001b[0m\u001b[0;34m)\u001b[0m\u001b[0;34m\u001b[0m\u001b[0;34m\u001b[0m\u001b[0m\n",
            "\u001b[0;32m/content/Azure-A-I/Services/mtl.py\u001b[0m in \u001b[0;36m<module>\u001b[0;34m\u001b[0m\n\u001b[1;32m     63\u001b[0m \u001b[0;32mfrom\u001b[0m \u001b[0mgraphframes\u001b[0m                                    \u001b[0;32mimport\u001b[0m \u001b[0mGraphFrame\u001b[0m\u001b[0;34m\u001b[0m\u001b[0;34m\u001b[0m\u001b[0m\n\u001b[1;32m     64\u001b[0m \u001b[0;32mfrom\u001b[0m \u001b[0mtransformers\u001b[0m                                   \u001b[0;32mimport\u001b[0m \u001b[0mDistilBertTokenizer\u001b[0m\u001b[0;34m,\u001b[0m\u001b[0mAutoModelForCausalLM\u001b[0m\u001b[0;34m,\u001b[0m\u001b[0mAutoTokenizer\u001b[0m\u001b[0;34m,\u001b[0m\u001b[0mTFDistilBertForSequenceClassification\u001b[0m\u001b[0;34m,\u001b[0m\u001b[0mTrainingArguments\u001b[0m\u001b[0;34m\u001b[0m\u001b[0;34m\u001b[0m\u001b[0m\n\u001b[0;32m---> 65\u001b[0;31m \u001b[0;32mfrom\u001b[0m \u001b[0mdatasets\u001b[0m                                       \u001b[0;32mimport\u001b[0m \u001b[0mload_dataset\u001b[0m\u001b[0;34m\u001b[0m\u001b[0;34m\u001b[0m\u001b[0m\n\u001b[0m\u001b[1;32m     66\u001b[0m \u001b[0;32mfrom\u001b[0m \u001b[0mtrl\u001b[0m                                            \u001b[0;32mimport\u001b[0m \u001b[0mSFTTrainer\u001b[0m\u001b[0;34m,\u001b[0m\u001b[0mtrainer\u001b[0m\u001b[0;34m\u001b[0m\u001b[0;34m\u001b[0m\u001b[0m\n\u001b[1;32m     67\u001b[0m \u001b[0;32mfrom\u001b[0m \u001b[0mtrl\u001b[0m\u001b[0;34m.\u001b[0m\u001b[0mtrainer\u001b[0m                                    \u001b[0;32mimport\u001b[0m \u001b[0mConstantLengthDataset\u001b[0m\u001b[0;34m\u001b[0m\u001b[0;34m\u001b[0m\u001b[0m\n",
            "\u001b[0;32m/usr/local/lib/python3.10/dist-packages/datasets/__init__.py\u001b[0m in \u001b[0;36m<module>\u001b[0;34m\u001b[0m\n\u001b[1;32m     15\u001b[0m \u001b[0m__version__\u001b[0m \u001b[0;34m=\u001b[0m \u001b[0;34m\"3.0.0\"\u001b[0m\u001b[0;34m\u001b[0m\u001b[0;34m\u001b[0m\u001b[0m\n\u001b[1;32m     16\u001b[0m \u001b[0;34m\u001b[0m\u001b[0m\n\u001b[0;32m---> 17\u001b[0;31m \u001b[0;32mfrom\u001b[0m \u001b[0;34m.\u001b[0m\u001b[0marrow_dataset\u001b[0m \u001b[0;32mimport\u001b[0m \u001b[0mDataset\u001b[0m\u001b[0;34m\u001b[0m\u001b[0;34m\u001b[0m\u001b[0m\n\u001b[0m\u001b[1;32m     18\u001b[0m \u001b[0;32mfrom\u001b[0m \u001b[0;34m.\u001b[0m\u001b[0marrow_reader\u001b[0m \u001b[0;32mimport\u001b[0m \u001b[0mReadInstruction\u001b[0m\u001b[0;34m\u001b[0m\u001b[0;34m\u001b[0m\u001b[0m\n\u001b[1;32m     19\u001b[0m \u001b[0;32mfrom\u001b[0m \u001b[0;34m.\u001b[0m\u001b[0mbuilder\u001b[0m \u001b[0;32mimport\u001b[0m \u001b[0mArrowBasedBuilder\u001b[0m\u001b[0;34m,\u001b[0m \u001b[0mBuilderConfig\u001b[0m\u001b[0;34m,\u001b[0m \u001b[0mDatasetBuilder\u001b[0m\u001b[0;34m,\u001b[0m \u001b[0mGeneratorBasedBuilder\u001b[0m\u001b[0;34m\u001b[0m\u001b[0;34m\u001b[0m\u001b[0m\n",
            "\u001b[0;32m/usr/local/lib/python3.10/dist-packages/datasets/arrow_dataset.py\u001b[0m in \u001b[0;36m<module>\u001b[0;34m\u001b[0m\n\u001b[1;32m     74\u001b[0m \u001b[0;34m\u001b[0m\u001b[0m\n\u001b[1;32m     75\u001b[0m \u001b[0;32mfrom\u001b[0m \u001b[0;34m.\u001b[0m \u001b[0;32mimport\u001b[0m \u001b[0mconfig\u001b[0m\u001b[0;34m\u001b[0m\u001b[0;34m\u001b[0m\u001b[0m\n\u001b[0;32m---> 76\u001b[0;31m \u001b[0;32mfrom\u001b[0m \u001b[0;34m.\u001b[0m\u001b[0marrow_reader\u001b[0m \u001b[0;32mimport\u001b[0m \u001b[0mArrowReader\u001b[0m\u001b[0;34m\u001b[0m\u001b[0;34m\u001b[0m\u001b[0m\n\u001b[0m\u001b[1;32m     77\u001b[0m \u001b[0;32mfrom\u001b[0m \u001b[0;34m.\u001b[0m\u001b[0marrow_writer\u001b[0m \u001b[0;32mimport\u001b[0m \u001b[0mArrowWriter\u001b[0m\u001b[0;34m,\u001b[0m \u001b[0mOptimizedTypedSequence\u001b[0m\u001b[0;34m\u001b[0m\u001b[0;34m\u001b[0m\u001b[0m\n\u001b[1;32m     78\u001b[0m \u001b[0;32mfrom\u001b[0m \u001b[0;34m.\u001b[0m\u001b[0mdata_files\u001b[0m \u001b[0;32mimport\u001b[0m \u001b[0msanitize_patterns\u001b[0m\u001b[0;34m\u001b[0m\u001b[0;34m\u001b[0m\u001b[0m\n",
            "\u001b[0;32m/usr/local/lib/python3.10/dist-packages/datasets/arrow_reader.py\u001b[0m in \u001b[0;36m<module>\u001b[0;34m\u001b[0m\n\u001b[1;32m     25\u001b[0m \u001b[0;34m\u001b[0m\u001b[0m\n\u001b[1;32m     26\u001b[0m \u001b[0;32mimport\u001b[0m \u001b[0mpyarrow\u001b[0m \u001b[0;32mas\u001b[0m \u001b[0mpa\u001b[0m\u001b[0;34m\u001b[0m\u001b[0;34m\u001b[0m\u001b[0m\n\u001b[0;32m---> 27\u001b[0;31m \u001b[0;32mimport\u001b[0m \u001b[0mpyarrow\u001b[0m\u001b[0;34m.\u001b[0m\u001b[0mparquet\u001b[0m \u001b[0;32mas\u001b[0m \u001b[0mpq\u001b[0m\u001b[0;34m\u001b[0m\u001b[0;34m\u001b[0m\u001b[0m\n\u001b[0m\u001b[1;32m     28\u001b[0m \u001b[0;32mfrom\u001b[0m \u001b[0mtqdm\u001b[0m\u001b[0;34m.\u001b[0m\u001b[0mcontrib\u001b[0m\u001b[0;34m.\u001b[0m\u001b[0mconcurrent\u001b[0m \u001b[0;32mimport\u001b[0m \u001b[0mthread_map\u001b[0m\u001b[0;34m\u001b[0m\u001b[0;34m\u001b[0m\u001b[0m\n\u001b[1;32m     29\u001b[0m \u001b[0;34m\u001b[0m\u001b[0m\n",
            "\u001b[0;31mModuleNotFoundError\u001b[0m: No module named 'pyarrow.parquet'",
            "",
            "\u001b[0;31m---------------------------------------------------------------------------\u001b[0;32m\nNOTE: If your import is failing due to a missing package, you can\nmanually install dependencies using either !pip or !apt.\n\nTo view examples of installing some common dependencies, click the\n\"Open Examples\" button below.\n\u001b[0;31m---------------------------------------------------------------------------\u001b[0m\n"
          ],
          "errorDetails": {
            "actions": [
              {
                "action": "open_url",
                "actionText": "Open Examples",
                "url": "/notebooks/snippets/importing_libraries.ipynb"
              }
            ]
          }
        }
      ],
      "source": [
        "import os\n",
        "os.chdir(\"/content\")\n",
        "if not os.path.exists(\"Azure-A-I\"):\n",
        "    !git clone https://github.com/robertauny/Azure-A-I\n",
        "    os.chdir(\"Azure-A-I/Services\")\n",
        "else:\n",
        "    os.chdir(\"Azure-A-I\")\n",
        "    !git pull\n",
        "    os.chdir(\"Services\")\n",
        "dir = !echo `pwd`\n",
        "print(*dir)\n",
        "if not os.path.exists(\"data\"):\n",
        "    print(\"data doesn't exist\")\n",
        "    !mkdir \"data\"\n",
        "    os.chdir(\"data\")\n",
        "    !wget \"https://nlp.stanford.edu/data/glove.6B.zip\"\n",
        "    !unzip \"glove.6B.zip\" -o\n",
        "else:\n",
        "    print(\"data exists\")\n",
        "    os.chdir(\"data\")\n",
        "    if not os.path.exists(\"glove.6B.zip\"):\n",
        "        !wget \"https://nlp.stanford.edu/data/glove.6B.zip\"\n",
        "        if os.path.exists(\"glove.6B.zip\"):\n",
        "            !unzip \"glove.6B.zip\" -o\n",
        "    else:\n",
        "        !unzip \"glove.6B.zip\" -o\n",
        "os.chdir(*dir)\n",
        "!ls -la \"data\"\n",
        "#!pip uninstall pyarrow -y\n",
        "pkgs=[\"tensorflow_model_optimization\"\n",
        "     ,\"pdf2image\"\n",
        "     ,\"pytesseract\"\n",
        "     ,\"bertopic\"\n",
        "     ,\"gremlinpython\"\n",
        "     ,\"sodapy\"\n",
        "     ,\"pandasql\"\n",
        "     ,\"pyspark\"\n",
        "     ,\"graphframes\"\n",
        "     #,\"pyarrow==15.0.2\"\n",
        "     ,\"pyarrow\"\n",
        "     ,\"pyarrow.parquet\"\n",
        "     ,\"datasets\"]\n",
        "for pkg in pkgs:\n",
        "    print(\"INSTALL: \"+pkg)\n",
        "    !pip install pkg\n",
        "import mtl\n",
        "print(\"Done\")"
      ]
    }
  ]
}